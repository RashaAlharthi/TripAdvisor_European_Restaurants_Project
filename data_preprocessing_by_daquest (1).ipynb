{
  "cells": [
    {
      "cell_type": "markdown",
      "source": [
        "# DATA PREPROCESSING"
      ],
      "metadata": {
        "id": "XnVmvmzsz9Da"
      },
      "id": "XnVmvmzsz9Da"
    },
    {
      "cell_type": "code",
      "execution_count": 1,
      "id": "2671db2a",
      "metadata": {
        "id": "2671db2a"
      },
      "outputs": [],
      "source": [
        "#imports\n",
        "import numpy as np\n",
        "import pandas as pd"
      ]
    },
    {
      "cell_type": "code",
      "source": [
        "from google.colab import drive\n",
        "drive.mount('/content/drive')"
      ],
      "metadata": {
        "colab": {
          "base_uri": "https://localhost:8080/"
        },
        "id": "x7paLr48ydRX",
        "outputId": "62eccd28-5f8b-46bd-b55a-d21aaa97065b"
      },
      "id": "x7paLr48ydRX",
      "execution_count": 2,
      "outputs": [
        {
          "output_type": "stream",
          "name": "stdout",
          "text": [
            "Mounted at /content/drive\n"
          ]
        }
      ]
    },
    {
      "cell_type": "code",
      "execution_count": 3,
      "id": "35873474",
      "metadata": {
        "colab": {
          "base_uri": "https://localhost:8080/"
        },
        "id": "35873474",
        "outputId": "367d9b86-a86d-4f86-a1c5-8026425df067"
      },
      "outputs": [
        {
          "output_type": "stream",
          "name": "stderr",
          "text": [
            "/usr/local/lib/python3.8/dist-packages/IPython/core/interactiveshell.py:3326: DtypeWarning: Columns (4) have mixed types.Specify dtype option on import or set low_memory=False.\n",
            "  exec(code_obj, self.user_global_ns, self.user_ns)\n"
          ]
        }
      ],
      "source": [
        "# Load and Read the dataset\n",
        "path = '/content/drive/My Drive/tripadvisor_european_restaurants.csv'\n",
        "\n",
        "european_restaurants = pd.read_csv(path)"
      ]
    },
    {
      "cell_type": "code",
      "source": [
        "european_restaurants.head()"
      ],
      "metadata": {
        "colab": {
          "base_uri": "https://localhost:8080/",
          "height": 716
        },
        "id": "nynJwceHTv23",
        "outputId": "a451df20-88ed-466f-9288-e0d663e35953"
      },
      "id": "nynJwceHTv23",
      "execution_count": 4,
      "outputs": [
        {
          "output_type": "execute_result",
          "data": {
            "text/plain": [
              "       restaurant_link       restaurant_name  \\\n",
              "0  g10001637-d10002227                Le 147   \n",
              "1  g10001637-d14975787      Le Saint Jouvent   \n",
              "2   g10002858-d4586832       Au Bout du Pont   \n",
              "3   g10002986-d3510044   Le Relais de Naiade   \n",
              "4   g10022428-d9767191  Relais Du MontSeigne   \n",
              "\n",
              "                                   original_location country  \\\n",
              "0  [\"Europe\", \"France\", \"Nouvelle-Aquitaine\", \"Ha...  France   \n",
              "1  [\"Europe\", \"France\", \"Nouvelle-Aquitaine\", \"Ha...  France   \n",
              "2  [\"Europe\", \"France\", \"Centre-Val de Loire\", \"B...  France   \n",
              "3  [\"Europe\", \"France\", \"Nouvelle-Aquitaine\", \"Co...  France   \n",
              "4  [\"Europe\", \"France\", \"Occitanie\", \"Aveyron\", \"...  France   \n",
              "\n",
              "                region      province                      city  \\\n",
              "0   Nouvelle-Aquitaine  Haute-Vienne             Saint-Jouvent   \n",
              "1   Nouvelle-Aquitaine  Haute-Vienne             Saint-Jouvent   \n",
              "2  Centre-Val de Loire         Berry                Rivarennes   \n",
              "3   Nouvelle-Aquitaine       Correze                   Lacelle   \n",
              "4            Occitanie       Aveyron  Saint-Laurent-de-Levezou   \n",
              "\n",
              "                                             address   latitude  longitude  \\\n",
              "0        10 Maison Neuve, 87510 Saint-Jouvent France  45.961674   1.169131   \n",
              "1   16 Place de l Eglise, 87510 Saint-Jouvent France  45.957040   1.205480   \n",
              "2           2 rue des Dames, 36800 Rivarennes France  46.635895   1.386133   \n",
              "3  9 avenue Porte de la Correze 19170, 19170 Lace...  45.642610   1.824460   \n",
              "4  route du Montseigne, 12620 Saint-Laurent-de-Le...  44.208860   2.960470   \n",
              "\n",
              "   ... excellent very_good average poor terrible food service value  \\\n",
              "0  ...       2.0       0.0     0.0  0.0      0.0  4.0     4.5   4.0   \n",
              "1  ...       2.0       2.0     1.0  0.0      0.0  NaN     NaN   NaN   \n",
              "2  ...       3.0       1.0     0.0  0.0      0.0  NaN     NaN   NaN   \n",
              "3  ...       1.0       0.0     0.0  0.0      0.0  4.5     4.5   4.5   \n",
              "4  ...       4.0       7.0     0.0  0.0      0.0  4.5     4.5   4.5   \n",
              "\n",
              "  atmosphere keywords  \n",
              "0        NaN      NaN  \n",
              "1        NaN      NaN  \n",
              "2        NaN      NaN  \n",
              "3        NaN      NaN  \n",
              "4        NaN      NaN  \n",
              "\n",
              "[5 rows x 42 columns]"
            ],
            "text/html": [
              "\n",
              "  <div id=\"df-157c643f-4037-4181-98f5-6e0109785632\">\n",
              "    <div class=\"colab-df-container\">\n",
              "      <div>\n",
              "<style scoped>\n",
              "    .dataframe tbody tr th:only-of-type {\n",
              "        vertical-align: middle;\n",
              "    }\n",
              "\n",
              "    .dataframe tbody tr th {\n",
              "        vertical-align: top;\n",
              "    }\n",
              "\n",
              "    .dataframe thead th {\n",
              "        text-align: right;\n",
              "    }\n",
              "</style>\n",
              "<table border=\"1\" class=\"dataframe\">\n",
              "  <thead>\n",
              "    <tr style=\"text-align: right;\">\n",
              "      <th></th>\n",
              "      <th>restaurant_link</th>\n",
              "      <th>restaurant_name</th>\n",
              "      <th>original_location</th>\n",
              "      <th>country</th>\n",
              "      <th>region</th>\n",
              "      <th>province</th>\n",
              "      <th>city</th>\n",
              "      <th>address</th>\n",
              "      <th>latitude</th>\n",
              "      <th>longitude</th>\n",
              "      <th>...</th>\n",
              "      <th>excellent</th>\n",
              "      <th>very_good</th>\n",
              "      <th>average</th>\n",
              "      <th>poor</th>\n",
              "      <th>terrible</th>\n",
              "      <th>food</th>\n",
              "      <th>service</th>\n",
              "      <th>value</th>\n",
              "      <th>atmosphere</th>\n",
              "      <th>keywords</th>\n",
              "    </tr>\n",
              "  </thead>\n",
              "  <tbody>\n",
              "    <tr>\n",
              "      <th>0</th>\n",
              "      <td>g10001637-d10002227</td>\n",
              "      <td>Le 147</td>\n",
              "      <td>[\"Europe\", \"France\", \"Nouvelle-Aquitaine\", \"Ha...</td>\n",
              "      <td>France</td>\n",
              "      <td>Nouvelle-Aquitaine</td>\n",
              "      <td>Haute-Vienne</td>\n",
              "      <td>Saint-Jouvent</td>\n",
              "      <td>10 Maison Neuve, 87510 Saint-Jouvent France</td>\n",
              "      <td>45.961674</td>\n",
              "      <td>1.169131</td>\n",
              "      <td>...</td>\n",
              "      <td>2.0</td>\n",
              "      <td>0.0</td>\n",
              "      <td>0.0</td>\n",
              "      <td>0.0</td>\n",
              "      <td>0.0</td>\n",
              "      <td>4.0</td>\n",
              "      <td>4.5</td>\n",
              "      <td>4.0</td>\n",
              "      <td>NaN</td>\n",
              "      <td>NaN</td>\n",
              "    </tr>\n",
              "    <tr>\n",
              "      <th>1</th>\n",
              "      <td>g10001637-d14975787</td>\n",
              "      <td>Le Saint Jouvent</td>\n",
              "      <td>[\"Europe\", \"France\", \"Nouvelle-Aquitaine\", \"Ha...</td>\n",
              "      <td>France</td>\n",
              "      <td>Nouvelle-Aquitaine</td>\n",
              "      <td>Haute-Vienne</td>\n",
              "      <td>Saint-Jouvent</td>\n",
              "      <td>16 Place de l Eglise, 87510 Saint-Jouvent France</td>\n",
              "      <td>45.957040</td>\n",
              "      <td>1.205480</td>\n",
              "      <td>...</td>\n",
              "      <td>2.0</td>\n",
              "      <td>2.0</td>\n",
              "      <td>1.0</td>\n",
              "      <td>0.0</td>\n",
              "      <td>0.0</td>\n",
              "      <td>NaN</td>\n",
              "      <td>NaN</td>\n",
              "      <td>NaN</td>\n",
              "      <td>NaN</td>\n",
              "      <td>NaN</td>\n",
              "    </tr>\n",
              "    <tr>\n",
              "      <th>2</th>\n",
              "      <td>g10002858-d4586832</td>\n",
              "      <td>Au Bout du Pont</td>\n",
              "      <td>[\"Europe\", \"France\", \"Centre-Val de Loire\", \"B...</td>\n",
              "      <td>France</td>\n",
              "      <td>Centre-Val de Loire</td>\n",
              "      <td>Berry</td>\n",
              "      <td>Rivarennes</td>\n",
              "      <td>2 rue des Dames, 36800 Rivarennes France</td>\n",
              "      <td>46.635895</td>\n",
              "      <td>1.386133</td>\n",
              "      <td>...</td>\n",
              "      <td>3.0</td>\n",
              "      <td>1.0</td>\n",
              "      <td>0.0</td>\n",
              "      <td>0.0</td>\n",
              "      <td>0.0</td>\n",
              "      <td>NaN</td>\n",
              "      <td>NaN</td>\n",
              "      <td>NaN</td>\n",
              "      <td>NaN</td>\n",
              "      <td>NaN</td>\n",
              "    </tr>\n",
              "    <tr>\n",
              "      <th>3</th>\n",
              "      <td>g10002986-d3510044</td>\n",
              "      <td>Le Relais de Naiade</td>\n",
              "      <td>[\"Europe\", \"France\", \"Nouvelle-Aquitaine\", \"Co...</td>\n",
              "      <td>France</td>\n",
              "      <td>Nouvelle-Aquitaine</td>\n",
              "      <td>Correze</td>\n",
              "      <td>Lacelle</td>\n",
              "      <td>9 avenue Porte de la Correze 19170, 19170 Lace...</td>\n",
              "      <td>45.642610</td>\n",
              "      <td>1.824460</td>\n",
              "      <td>...</td>\n",
              "      <td>1.0</td>\n",
              "      <td>0.0</td>\n",
              "      <td>0.0</td>\n",
              "      <td>0.0</td>\n",
              "      <td>0.0</td>\n",
              "      <td>4.5</td>\n",
              "      <td>4.5</td>\n",
              "      <td>4.5</td>\n",
              "      <td>NaN</td>\n",
              "      <td>NaN</td>\n",
              "    </tr>\n",
              "    <tr>\n",
              "      <th>4</th>\n",
              "      <td>g10022428-d9767191</td>\n",
              "      <td>Relais Du MontSeigne</td>\n",
              "      <td>[\"Europe\", \"France\", \"Occitanie\", \"Aveyron\", \"...</td>\n",
              "      <td>France</td>\n",
              "      <td>Occitanie</td>\n",
              "      <td>Aveyron</td>\n",
              "      <td>Saint-Laurent-de-Levezou</td>\n",
              "      <td>route du Montseigne, 12620 Saint-Laurent-de-Le...</td>\n",
              "      <td>44.208860</td>\n",
              "      <td>2.960470</td>\n",
              "      <td>...</td>\n",
              "      <td>4.0</td>\n",
              "      <td>7.0</td>\n",
              "      <td>0.0</td>\n",
              "      <td>0.0</td>\n",
              "      <td>0.0</td>\n",
              "      <td>4.5</td>\n",
              "      <td>4.5</td>\n",
              "      <td>4.5</td>\n",
              "      <td>NaN</td>\n",
              "      <td>NaN</td>\n",
              "    </tr>\n",
              "  </tbody>\n",
              "</table>\n",
              "<p>5 rows × 42 columns</p>\n",
              "</div>\n",
              "      <button class=\"colab-df-convert\" onclick=\"convertToInteractive('df-157c643f-4037-4181-98f5-6e0109785632')\"\n",
              "              title=\"Convert this dataframe to an interactive table.\"\n",
              "              style=\"display:none;\">\n",
              "        \n",
              "  <svg xmlns=\"http://www.w3.org/2000/svg\" height=\"24px\"viewBox=\"0 0 24 24\"\n",
              "       width=\"24px\">\n",
              "    <path d=\"M0 0h24v24H0V0z\" fill=\"none\"/>\n",
              "    <path d=\"M18.56 5.44l.94 2.06.94-2.06 2.06-.94-2.06-.94-.94-2.06-.94 2.06-2.06.94zm-11 1L8.5 8.5l.94-2.06 2.06-.94-2.06-.94L8.5 2.5l-.94 2.06-2.06.94zm10 10l.94 2.06.94-2.06 2.06-.94-2.06-.94-.94-2.06-.94 2.06-2.06.94z\"/><path d=\"M17.41 7.96l-1.37-1.37c-.4-.4-.92-.59-1.43-.59-.52 0-1.04.2-1.43.59L10.3 9.45l-7.72 7.72c-.78.78-.78 2.05 0 2.83L4 21.41c.39.39.9.59 1.41.59.51 0 1.02-.2 1.41-.59l7.78-7.78 2.81-2.81c.8-.78.8-2.07 0-2.86zM5.41 20L4 18.59l7.72-7.72 1.47 1.35L5.41 20z\"/>\n",
              "  </svg>\n",
              "      </button>\n",
              "      \n",
              "  <style>\n",
              "    .colab-df-container {\n",
              "      display:flex;\n",
              "      flex-wrap:wrap;\n",
              "      gap: 12px;\n",
              "    }\n",
              "\n",
              "    .colab-df-convert {\n",
              "      background-color: #E8F0FE;\n",
              "      border: none;\n",
              "      border-radius: 50%;\n",
              "      cursor: pointer;\n",
              "      display: none;\n",
              "      fill: #1967D2;\n",
              "      height: 32px;\n",
              "      padding: 0 0 0 0;\n",
              "      width: 32px;\n",
              "    }\n",
              "\n",
              "    .colab-df-convert:hover {\n",
              "      background-color: #E2EBFA;\n",
              "      box-shadow: 0px 1px 2px rgba(60, 64, 67, 0.3), 0px 1px 3px 1px rgba(60, 64, 67, 0.15);\n",
              "      fill: #174EA6;\n",
              "    }\n",
              "\n",
              "    [theme=dark] .colab-df-convert {\n",
              "      background-color: #3B4455;\n",
              "      fill: #D2E3FC;\n",
              "    }\n",
              "\n",
              "    [theme=dark] .colab-df-convert:hover {\n",
              "      background-color: #434B5C;\n",
              "      box-shadow: 0px 1px 3px 1px rgba(0, 0, 0, 0.15);\n",
              "      filter: drop-shadow(0px 1px 2px rgba(0, 0, 0, 0.3));\n",
              "      fill: #FFFFFF;\n",
              "    }\n",
              "  </style>\n",
              "\n",
              "      <script>\n",
              "        const buttonEl =\n",
              "          document.querySelector('#df-157c643f-4037-4181-98f5-6e0109785632 button.colab-df-convert');\n",
              "        buttonEl.style.display =\n",
              "          google.colab.kernel.accessAllowed ? 'block' : 'none';\n",
              "\n",
              "        async function convertToInteractive(key) {\n",
              "          const element = document.querySelector('#df-157c643f-4037-4181-98f5-6e0109785632');\n",
              "          const dataTable =\n",
              "            await google.colab.kernel.invokeFunction('convertToInteractive',\n",
              "                                                     [key], {});\n",
              "          if (!dataTable) return;\n",
              "\n",
              "          const docLinkHtml = 'Like what you see? Visit the ' +\n",
              "            '<a target=\"_blank\" href=https://colab.research.google.com/notebooks/data_table.ipynb>data table notebook</a>'\n",
              "            + ' to learn more about interactive tables.';\n",
              "          element.innerHTML = '';\n",
              "          dataTable['output_type'] = 'display_data';\n",
              "          await google.colab.output.renderOutput(dataTable, element);\n",
              "          const docLink = document.createElement('div');\n",
              "          docLink.innerHTML = docLinkHtml;\n",
              "          element.appendChild(docLink);\n",
              "        }\n",
              "      </script>\n",
              "    </div>\n",
              "  </div>\n",
              "  "
            ]
          },
          "metadata": {},
          "execution_count": 4
        }
      ]
    },
    {
      "cell_type": "code",
      "source": [
        "#check data shape\n",
        "european_restaurants.shape"
      ],
      "metadata": {
        "colab": {
          "base_uri": "https://localhost:8080/"
        },
        "id": "hIjVURNfQZyh",
        "outputId": "4a548566-c0ed-4942-d669-579492d142b7"
      },
      "id": "hIjVURNfQZyh",
      "execution_count": 5,
      "outputs": [
        {
          "output_type": "execute_result",
          "data": {
            "text/plain": [
              "(1083397, 42)"
            ]
          },
          "metadata": {},
          "execution_count": 5
        }
      ]
    },
    {
      "cell_type": "code",
      "execution_count": 6,
      "id": "740e7c18",
      "metadata": {
        "colab": {
          "base_uri": "https://localhost:8080/"
        },
        "id": "740e7c18",
        "outputId": "3bdf9691-38a1-4aa7-f425-ccad841a7811",
        "scrolled": true
      },
      "outputs": [
        {
          "output_type": "stream",
          "name": "stdout",
          "text": [
            "<class 'pandas.core.frame.DataFrame'>\n",
            "RangeIndex: 1083397 entries, 0 to 1083396\n",
            "Data columns (total 42 columns):\n",
            " #   Column                             Non-Null Count    Dtype  \n",
            "---  ------                             --------------    -----  \n",
            " 0   restaurant_link                    1083397 non-null  object \n",
            " 1   restaurant_name                    1083397 non-null  object \n",
            " 2   original_location                  1083397 non-null  object \n",
            " 3   country                            1083397 non-null  object \n",
            " 4   region                             1033074 non-null  object \n",
            " 5   province                           742765 non-null   object \n",
            " 6   city                               682712 non-null   object \n",
            " 7   address                            1083397 non-null  object \n",
            " 8   latitude                           1067607 non-null  float64\n",
            " 9   longitude                          1067607 non-null  float64\n",
            " 10  claimed                            1081555 non-null  object \n",
            " 11  awards                             263133 non-null   object \n",
            " 12  popularity_detailed                988409 non-null   object \n",
            " 13  popularity_generic                 985605 non-null   object \n",
            " 14  top_tags                           972763 non-null   object \n",
            " 15  price_level                        806192 non-null   object \n",
            " 16  price_range                        304327 non-null   object \n",
            " 17  meals                              635347 non-null   object \n",
            " 18  cuisines                           914294 non-null   object \n",
            " 19  special_diets                      340256 non-null   object \n",
            " 20  features                           317407 non-null   object \n",
            " 21  vegetarian_friendly                1083397 non-null  object \n",
            " 22  vegan_options                      1083397 non-null  object \n",
            " 23  gluten_free                        1083397 non-null  object \n",
            " 24  original_open_hours                593832 non-null   object \n",
            " 25  open_days_per_week                 593832 non-null   float64\n",
            " 26  open_hours_per_week                593832 non-null   float64\n",
            " 27  working_shifts_per_week            593832 non-null   float64\n",
            " 28  avg_rating                         986761 non-null   float64\n",
            " 29  total_reviews_count                1031162 non-null  float64\n",
            " 30  default_language                   988204 non-null   object \n",
            " 31  reviews_count_in_default_language  988204 non-null   float64\n",
            " 32  excellent                          988204 non-null   float64\n",
            " 33  very_good                          988204 non-null   float64\n",
            " 34  average                            988204 non-null   float64\n",
            " 35  poor                               988204 non-null   float64\n",
            " 36  terrible                           988204 non-null   float64\n",
            " 37  food                               599325 non-null   float64\n",
            " 38  service                            604287 non-null   float64\n",
            " 39  value                              602692 non-null   float64\n",
            " 40  atmosphere                         261785 non-null   float64\n",
            " 41  keywords                           99198 non-null    object \n",
            "dtypes: float64(17), object(25)\n",
            "memory usage: 347.2+ MB\n"
          ]
        }
      ],
      "source": [
        "#check data informations\n",
        "european_restaurants.info()"
      ]
    },
    {
      "cell_type": "markdown",
      "source": [
        "# Data Preparing "
      ],
      "metadata": {
        "id": "fNALG8KaT2xd"
      },
      "id": "fNALG8KaT2xd"
    },
    {
      "cell_type": "code",
      "source": [
        "# Drop price_range column, we will replace this column by mid or cheap categories from top_tags column\n",
        "european_restaurants.drop(['price_range'], axis=1, inplace= True)"
      ],
      "metadata": {
        "id": "ovzG5LUDT27V"
      },
      "id": "ovzG5LUDT27V",
      "execution_count": 7,
      "outputs": []
    },
    {
      "cell_type": "code",
      "source": [
        "# here we will split the values in top_tags column to separate columns and save them in top_tags variable\n",
        "top_tags = european_restaurants['top_tags'].str.split(',', expand=True)"
      ],
      "metadata": {
        "id": "RZ5ep-DKUMAE"
      },
      "id": "RZ5ep-DKUMAE",
      "execution_count": 8,
      "outputs": []
    },
    {
      "cell_type": "code",
      "source": [
        "#creat a price_range column take the first element of top_tags\n",
        "european_restaurants['price_range'] = top_tags[0]"
      ],
      "metadata": {
        "id": "3AnCYbOLUMDU"
      },
      "id": "3AnCYbOLUMDU",
      "execution_count": 9,
      "outputs": []
    },
    {
      "cell_type": "code",
      "source": [
        "# selecting rows based on mid or cheap range\n",
        "european_restaurants_sub = european_restaurants[european_restaurants['price_range'].isin(['Mid-range', 'Cheap Eats'])]"
      ],
      "metadata": {
        "id": "13EAZ9wZUeUD"
      },
      "id": "13EAZ9wZUeUD",
      "execution_count": 10,
      "outputs": []
    },
    {
      "cell_type": "code",
      "source": [
        "#map Mid-range, Cheap Eats values in price_range column by mid and cheap\n",
        "european_restaurants_sub['price_range'] = european_restaurants_sub['price_range'].map({'Mid-range': 'mid', 'Cheap Eats': 'cheap'})"
      ],
      "metadata": {
        "colab": {
          "base_uri": "https://localhost:8080/"
        },
        "id": "R4XHRwX1X-7s",
        "outputId": "cd6fb524-0bd7-4cd4-f3d7-1c23630083b4"
      },
      "id": "R4XHRwX1X-7s",
      "execution_count": 11,
      "outputs": [
        {
          "output_type": "stream",
          "name": "stderr",
          "text": [
            "<ipython-input-11-0eb1fe13e08b>:2: SettingWithCopyWarning: \n",
            "A value is trying to be set on a copy of a slice from a DataFrame.\n",
            "Try using .loc[row_indexer,col_indexer] = value instead\n",
            "\n",
            "See the caveats in the documentation: https://pandas.pydata.org/pandas-docs/stable/user_guide/indexing.html#returning-a-view-versus-a-copy\n",
            "  european_restaurants_sub['price_range'] = european_restaurants_sub['price_range'].map({'Mid-range': 'mid', 'Cheap Eats': 'cheap'})\n"
          ]
        }
      ]
    },
    {
      "cell_type": "markdown",
      "source": [
        "We will work on this sub data"
      ],
      "metadata": {
        "id": "2WVbW3V7UjXr"
      },
      "id": "2WVbW3V7UjXr"
    },
    {
      "cell_type": "code",
      "source": [
        "# check sub data shape\n",
        "european_restaurants_sub.shape"
      ],
      "metadata": {
        "colab": {
          "base_uri": "https://localhost:8080/"
        },
        "id": "L7ACo6u1U0sr",
        "outputId": "2a7d3c59-b04e-438d-817d-0e399ce5a19f"
      },
      "id": "L7ACo6u1U0sr",
      "execution_count": 12,
      "outputs": [
        {
          "output_type": "execute_result",
          "data": {
            "text/plain": [
              "(778558, 42)"
            ]
          },
          "metadata": {},
          "execution_count": 12
        }
      ]
    },
    {
      "cell_type": "code",
      "source": [
        "# check null values\n",
        "european_restaurants_sub.isnull().sum()"
      ],
      "metadata": {
        "colab": {
          "base_uri": "https://localhost:8080/"
        },
        "id": "Ftye8l1YU5kD",
        "outputId": "2c789fe8-f659-446b-c812-35780909d420"
      },
      "id": "Ftye8l1YU5kD",
      "execution_count": 13,
      "outputs": [
        {
          "output_type": "execute_result",
          "data": {
            "text/plain": [
              "restaurant_link                           0\n",
              "restaurant_name                           0\n",
              "original_location                         0\n",
              "country                                   0\n",
              "region                                34132\n",
              "province                             236188\n",
              "city                                 286925\n",
              "address                                   0\n",
              "latitude                               4973\n",
              "longitude                              4973\n",
              "claimed                                1337\n",
              "awards                               531187\n",
              "popularity_detailed                   26795\n",
              "popularity_generic                    28762\n",
              "top_tags                                  0\n",
              "price_level                             451\n",
              "meals                                253077\n",
              "cuisines                              53600\n",
              "special_diets                        454768\n",
              "features                             506619\n",
              "vegetarian_friendly                       0\n",
              "vegan_options                             0\n",
              "gluten_free                               0\n",
              "original_open_hours                  290110\n",
              "open_days_per_week                   290110\n",
              "open_hours_per_week                  290110\n",
              "working_shifts_per_week              290110\n",
              "avg_rating                            27760\n",
              "total_reviews_count                   14628\n",
              "default_language                      26590\n",
              "reviews_count_in_default_language     26590\n",
              "excellent                             26590\n",
              "very_good                             26590\n",
              "average                               26590\n",
              "poor                                  26590\n",
              "terrible                              26590\n",
              "food                                 208433\n",
              "service                              204330\n",
              "value                                205672\n",
              "atmosphere                           533779\n",
              "keywords                             684538\n",
              "price_range                               0\n",
              "dtype: int64"
            ]
          },
          "metadata": {},
          "execution_count": 13
        }
      ]
    },
    {
      "cell_type": "markdown",
      "source": [
        "# Data cleaning"
      ],
      "metadata": {
        "id": "xeVcjOfDCXaO"
      },
      "id": "xeVcjOfDCXaO"
    },
    {
      "cell_type": "markdown",
      "id": "02b4206f",
      "metadata": {
        "id": "02b4206f"
      },
      "source": [
        "### - Drop columns with a large number of null values"
      ]
    },
    {
      "cell_type": "code",
      "execution_count": 14,
      "id": "aff621ba",
      "metadata": {
        "id": "aff621ba",
        "colab": {
          "base_uri": "https://localhost:8080/"
        },
        "outputId": "4fe75224-9c08-493f-f87a-ae1147d4a324"
      },
      "outputs": [
        {
          "output_type": "stream",
          "name": "stderr",
          "text": [
            "/usr/local/lib/python3.8/dist-packages/pandas/core/frame.py:4906: SettingWithCopyWarning: \n",
            "A value is trying to be set on a copy of a slice from a DataFrame\n",
            "\n",
            "See the caveats in the documentation: https://pandas.pydata.org/pandas-docs/stable/user_guide/indexing.html#returning-a-view-versus-a-copy\n",
            "  return super().drop(\n"
          ]
        }
      ],
      "source": [
        "#These columns contain a large number of null values and are unnecessary columns\n",
        "\n",
        "european_restaurants_sub.drop(['price_level', 'special_diets', 'restaurant_link', 'original_location', 'original_open_hours',\n",
        "                           'keywords', 'features', 'awards', 'meals', 'province', 'address', 'top_tags'], axis=1, inplace= True)"
      ]
    },
    {
      "cell_type": "markdown",
      "id": "443b1c26",
      "metadata": {
        "id": "443b1c26"
      },
      "source": [
        "### - Handling null values in other columns"
      ]
    },
    {
      "cell_type": "code",
      "source": [
        "#sorte data by country\n",
        "\n",
        "european_restaurants_sub = european_restaurants_sub.sort_values(by=['country'])"
      ],
      "metadata": {
        "id": "ZzNniwMnFf-T"
      },
      "id": "ZzNniwMnFf-T",
      "execution_count": 15,
      "outputs": []
    },
    {
      "cell_type": "code",
      "execution_count": 16,
      "id": "029c0319",
      "metadata": {
        "id": "029c0319"
      },
      "outputs": [],
      "source": [
        "#fill null city value using the previous row value\n",
        "\n",
        "european_restaurants_sub['city'] = european_restaurants_sub['city'].ffill()"
      ]
    },
    {
      "cell_type": "code",
      "execution_count": 17,
      "id": "2bb502fa",
      "metadata": {
        "id": "2bb502fa"
      },
      "outputs": [],
      "source": [
        "#fill null region value \n",
        "\n",
        "european_restaurants_sub['region'] = european_restaurants_sub['region'].ffill()"
      ]
    },
    {
      "cell_type": "code",
      "source": [
        "#sorte data by city & region\n",
        "\n",
        "european_restaurants_sub = european_restaurants_sub.sort_values(by=['city','region'])"
      ],
      "metadata": {
        "id": "VPjCFEqvJMXF"
      },
      "id": "VPjCFEqvJMXF",
      "execution_count": 18,
      "outputs": []
    },
    {
      "cell_type": "code",
      "execution_count": 19,
      "id": "349b0c08",
      "metadata": {
        "id": "349b0c08"
      },
      "outputs": [],
      "source": [
        "#fill depend on region and city\n",
        "\n",
        "european_restaurants_sub['latitude'] = european_restaurants_sub['latitude'].ffill()\n",
        "european_restaurants_sub['longitude'] = european_restaurants_sub['longitude'].ffill()"
      ]
    },
    {
      "cell_type": "code",
      "execution_count": 21,
      "id": "trRQV0cMd1wf",
      "metadata": {
        "id": "trRQV0cMd1wf"
      },
      "outputs": [],
      "source": [
        "#fill null values in numeric columns using mean\n",
        "\n",
        "# 1- Rating columns\n",
        "european_restaurants_sub['average'].fillna(round(european_restaurants_sub['average'].mean(),1), inplace=True)\n",
        "european_restaurants_sub['very_good'].fillna(round(european_restaurants_sub['very_good'].mean(),1), inplace=True)\n",
        "european_restaurants_sub['excellent'].fillna(round(european_restaurants_sub['excellent'].mean(),1), inplace=True)\n",
        "european_restaurants_sub['value'].fillna(round(european_restaurants_sub['value'].mean(),1), inplace=True)\n",
        "european_restaurants_sub['atmosphere'].fillna(round(european_restaurants_sub['atmosphere'].mean(),1), inplace=True)\n",
        "european_restaurants_sub['service'].fillna(round(european_restaurants_sub['service'].mean(),1), inplace=True)\n",
        "european_restaurants_sub['food'].fillna(round(european_restaurants_sub['food'].mean(),1), inplace=True)\n",
        "european_restaurants_sub['terrible'].fillna(round(european_restaurants_sub['terrible'].mean(),1), inplace=True)\n",
        "european_restaurants_sub['poor'].fillna(round(european_restaurants_sub['poor'].mean(),1), inplace=True)\n",
        "\n",
        "# 2- count columns\n",
        "european_restaurants_sub['total_reviews_count'].fillna(round(european_restaurants_sub['total_reviews_count'].mean(),1), inplace=True)\n",
        "european_restaurants_sub['reviews_count_in_default_language'].fillna(round(european_restaurants_sub['reviews_count_in_default_language'].mean(),1), inplace=True)\n",
        "\n",
        "# 3- opening informations\n",
        "european_restaurants_sub['open_days_per_week'].fillna(european_restaurants_sub['reviews_count_in_default_language'].median(), inplace=True)\n",
        "european_restaurants_sub['open_hours_per_week'].fillna(european_restaurants_sub['reviews_count_in_default_language'].median(), inplace=True)\n",
        "european_restaurants_sub['working_shifts_per_week'].fillna(european_restaurants_sub['reviews_count_in_default_language'].median(), inplace=True)"
      ]
    },
    {
      "cell_type": "code",
      "source": [
        "# 1- change data type of count columns to integer\n",
        "european_restaurants_sub['total_reviews_count'] = european_restaurants_sub['total_reviews_count'].astype('int')\n",
        "european_restaurants_sub['reviews_count_in_default_language'] = european_restaurants_sub['reviews_count_in_default_language'].astype('int')\n",
        "\n",
        "# 2- change open_days_per_week and working_shifts_per_week data types to integer\n",
        "european_restaurants_sub['open_days_per_week'] = european_restaurants_sub['open_days_per_week'].astype('int')\n",
        "european_restaurants_sub['working_shifts_per_week'] = european_restaurants_sub['working_shifts_per_week'].astype('int')"
      ],
      "metadata": {
        "id": "WpdIuF2YQuRB"
      },
      "id": "WpdIuF2YQuRB",
      "execution_count": 29,
      "outputs": []
    },
    {
      "cell_type": "code",
      "source": [
        "# we will drop null values in avg_rating and claimed columns becase we want it our target\n",
        "\n",
        "european_restaurants_sub = european_restaurants_sub.dropna(axis=0, subset=['avg_rating'])\n",
        "european_restaurants_sub = european_restaurants_sub.dropna(axis=0, subset=['claimed'])"
      ],
      "metadata": {
        "id": "60Si1fOwAmiB"
      },
      "id": "60Si1fOwAmiB",
      "execution_count": 23,
      "outputs": []
    },
    {
      "cell_type": "code",
      "execution_count": 24,
      "id": "NYKBvxT5X-dU",
      "metadata": {
        "id": "NYKBvxT5X-dU"
      },
      "outputs": [],
      "source": [
        "#Replace the remaining null with an unknown\n",
        "\n",
        "european_restaurants_sub = european_restaurants_sub.fillna('unknown')"
      ]
    },
    {
      "cell_type": "markdown",
      "id": "ee90e924",
      "metadata": {
        "id": "ee90e924"
      },
      "source": [
        "### - Map each Y to 1 and N to 0"
      ]
    },
    {
      "cell_type": "code",
      "execution_count": 25,
      "id": "2LCaInYygAAv",
      "metadata": {
        "id": "2LCaInYygAAv"
      },
      "outputs": [],
      "source": [
        "#map Y, N values in gluten_free column by 0 and 1\n",
        "european_restaurants_sub['gluten_free'] = european_restaurants_sub['gluten_free'].map({'Y': 1, 'N': 0})\n",
        "\n",
        "#map Y, N values in gluten_free column by 0 and 1\n",
        "european_restaurants_sub['vegan_options'] = european_restaurants_sub['vegan_options'].map({'Y': 1, 'N': 0})\n",
        "\n",
        "#map Y, N values in gluten_free column by 0 and 1\n",
        "european_restaurants_sub['vegetarian_friendly'] = european_restaurants_sub['vegetarian_friendly'].map({'Y': 1, 'N': 0})"
      ]
    },
    {
      "cell_type": "markdown",
      "id": "9c658c34",
      "metadata": {
        "id": "9c658c34"
      },
      "source": [
        "### - clean text in popularity_detailed and restaurant_name"
      ]
    },
    {
      "cell_type": "code",
      "execution_count": 26,
      "id": "3594e5dd",
      "metadata": {
        "id": "3594e5dd"
      },
      "outputs": [],
      "source": [
        "#clean text in restaurant_name column\n",
        "european_restaurants_sub.restaurant_name.replace({r'[^\\x00-\\x7F]+':''}, regex=True, inplace=True)\n",
        "\n",
        "#clean text in popularity_detailed column\n",
        "european_restaurants_sub.popularity_detailed.replace({r'[\"#[A-Za-z0-9_\"]+ ':''}, regex=True, inplace=True)"
      ]
    },
    {
      "cell_type": "code",
      "source": [
        "european_restaurants_sub.isnull().sum()"
      ],
      "metadata": {
        "colab": {
          "base_uri": "https://localhost:8080/"
        },
        "id": "Bisq-lErPu5r",
        "outputId": "323529b4-44c2-4fac-9ba5-3d88b964d450"
      },
      "id": "Bisq-lErPu5r",
      "execution_count": 27,
      "outputs": [
        {
          "output_type": "execute_result",
          "data": {
            "text/plain": [
              "restaurant_name                      0\n",
              "country                              0\n",
              "region                               0\n",
              "city                                 0\n",
              "latitude                             0\n",
              "longitude                            0\n",
              "claimed                              0\n",
              "popularity_detailed                  0\n",
              "popularity_generic                   0\n",
              "cuisines                             0\n",
              "vegetarian_friendly                  0\n",
              "vegan_options                        0\n",
              "gluten_free                          0\n",
              "open_days_per_week                   0\n",
              "open_hours_per_week                  0\n",
              "working_shifts_per_week              0\n",
              "avg_rating                           0\n",
              "total_reviews_count                  0\n",
              "default_language                     0\n",
              "reviews_count_in_default_language    0\n",
              "excellent                            0\n",
              "very_good                            0\n",
              "average                              0\n",
              "poor                                 0\n",
              "terrible                             0\n",
              "food                                 0\n",
              "service                              0\n",
              "value                                0\n",
              "atmosphere                           0\n",
              "price_range                          0\n",
              "dtype: int64"
            ]
          },
          "metadata": {},
          "execution_count": 27
        }
      ]
    },
    {
      "cell_type": "code",
      "source": [
        "european_restaurants_sub.info()"
      ],
      "metadata": {
        "colab": {
          "base_uri": "https://localhost:8080/"
        },
        "id": "QO49KcQ0cGOm",
        "outputId": "3930ecf7-792f-4619-cd2b-b236afc3dcc7"
      },
      "id": "QO49KcQ0cGOm",
      "execution_count": 30,
      "outputs": [
        {
          "output_type": "stream",
          "name": "stdout",
          "text": [
            "<class 'pandas.core.frame.DataFrame'>\n",
            "Int64Index: 749544 entries, 184348 to 113206\n",
            "Data columns (total 30 columns):\n",
            " #   Column                             Non-Null Count   Dtype  \n",
            "---  ------                             --------------   -----  \n",
            " 0   restaurant_name                    749544 non-null  object \n",
            " 1   country                            749544 non-null  object \n",
            " 2   region                             749544 non-null  object \n",
            " 3   city                               749544 non-null  object \n",
            " 4   latitude                           749544 non-null  float64\n",
            " 5   longitude                          749544 non-null  float64\n",
            " 6   claimed                            749544 non-null  object \n",
            " 7   popularity_detailed                749544 non-null  object \n",
            " 8   popularity_generic                 749544 non-null  object \n",
            " 9   cuisines                           749544 non-null  object \n",
            " 10  vegetarian_friendly                749544 non-null  int64  \n",
            " 11  vegan_options                      749544 non-null  int64  \n",
            " 12  gluten_free                        749544 non-null  int64  \n",
            " 13  open_days_per_week                 749544 non-null  int64  \n",
            " 14  open_hours_per_week                749544 non-null  float64\n",
            " 15  working_shifts_per_week            749544 non-null  int64  \n",
            " 16  avg_rating                         749544 non-null  float64\n",
            " 17  total_reviews_count                749544 non-null  int64  \n",
            " 18  default_language                   749544 non-null  object \n",
            " 19  reviews_count_in_default_language  749544 non-null  int64  \n",
            " 20  excellent                          749544 non-null  float64\n",
            " 21  very_good                          749544 non-null  float64\n",
            " 22  average                            749544 non-null  float64\n",
            " 23  poor                               749544 non-null  float64\n",
            " 24  terrible                           749544 non-null  float64\n",
            " 25  food                               749544 non-null  float64\n",
            " 26  service                            749544 non-null  float64\n",
            " 27  value                              749544 non-null  float64\n",
            " 28  atmosphere                         749544 non-null  float64\n",
            " 29  price_range                        749544 non-null  object \n",
            "dtypes: float64(13), int64(7), object(10)\n",
            "memory usage: 177.3+ MB\n"
          ]
        }
      ]
    },
    {
      "cell_type": "code",
      "source": [
        "european_restaurants_sub.shape"
      ],
      "metadata": {
        "colab": {
          "base_uri": "https://localhost:8080/"
        },
        "id": "indc9gAlbHpw",
        "outputId": "3fed47f5-f231-4313-fd01-278ccd2d8c2e"
      },
      "id": "indc9gAlbHpw",
      "execution_count": 31,
      "outputs": [
        {
          "output_type": "execute_result",
          "data": {
            "text/plain": [
              "(749544, 30)"
            ]
          },
          "metadata": {},
          "execution_count": 31
        }
      ]
    },
    {
      "cell_type": "markdown",
      "id": "3f4e701e",
      "metadata": {
        "id": "3f4e701e"
      },
      "source": [
        "## save the cleaning to new csv file"
      ]
    },
    {
      "cell_type": "code",
      "execution_count": 32,
      "id": "0ea3b586",
      "metadata": {
        "id": "0ea3b586"
      },
      "outputs": [],
      "source": [
        " european_restaurants_sub.to_csv('cleaning_data.csv', index=False)"
      ]
    }
  ],
  "metadata": {
    "colab": {
      "provenance": []
    },
    "kernelspec": {
      "display_name": "Python 3",
      "language": "python",
      "name": "python3"
    },
    "language_info": {
      "codemirror_mode": {
        "name": "ipython",
        "version": 3
      },
      "file_extension": ".py",
      "mimetype": "text/x-python",
      "name": "python",
      "nbconvert_exporter": "python",
      "pygments_lexer": "ipython3",
      "version": "3.8.8"
    },
    "accelerator": "GPU",
    "gpuClass": "standard"
  },
  "nbformat": 4,
  "nbformat_minor": 5
}